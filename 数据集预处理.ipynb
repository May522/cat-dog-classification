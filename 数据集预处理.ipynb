{
 "cells": [
  {
   "cell_type": "code",
   "execution_count": 1,
   "metadata": {},
   "outputs": [],
   "source": [
    "import torch\n",
    "import torch.nn as nn\n",
    "import numpy as np\n",
    "import torch.nn.functional as F\n",
    "from torch.utils.data import Dataset,DataLoader\n",
    "from torchvision import datasets,transforms,models\n",
    "import os\n",
    "import shutil\n",
    "import time\n",
    "from torch.autograd import Variable\n",
    "import matplotlib.pyplot as plt\n",
    "from tqdm import tqdm\n",
    "import random\n",
    "import cv2"
   ]
  },
  {
   "cell_type": "code",
   "execution_count": null,
   "metadata": {},
   "outputs": [],
   "source": [
    "# 将训练集划分出10%的数据量作为验证集\n",
    "# 把训练集中的猫狗图像分别放在独立的文件夹中\n",
    "# 文件结构为：\n",
    "train\n",
    "copy\n",
    "    -train\n",
    "        -cats\n",
    "        -dogs\n",
    "    -val\n",
    "        -cats\n",
    "        -dogs\n",
    "test"
   ]
  },
  {
   "cell_type": "code",
   "execution_count": 2,
   "metadata": {},
   "outputs": [],
   "source": [
    "original_dataset_dir='./train'\n",
    "total_num=int(len(os.listdir(original_dataset_dir))/2)\n",
    "random_idx=np.array(range(total_num))\n",
    "np.random.shuffle(random_idx)"
   ]
  },
  {
   "cell_type": "code",
   "execution_count": 3,
   "metadata": {},
   "outputs": [
    {
     "name": "stdout",
     "output_type": "stream",
     "text": [
      "[10584  9517 10546 ... 10179  3482 11039]\n",
      "[ 7276 11428 11791 ... 10335   920  5268]\n",
      "11250\n",
      "1250\n"
     ]
    }
   ],
   "source": [
    "\n",
    "base_dir='./copy'\n",
    "if not os.path.exists(base_dir):\n",
    "    os.mkdir(base_dir)\n",
    "sub_dirs=['train','val']\n",
    "animals=['cats','dogs']\n",
    "train_idx=random_idx[:int(total_num*0.9)]\n",
    "val_idx=random_idx[int(total_num*0.9):]\n",
    "print(train_idx)\n",
    "print(val_idx)\n",
    "print(len(train_idx))\n",
    "print(len(val_idx))"
   ]
  },
  {
   "cell_type": "code",
   "execution_count": 6,
   "metadata": {},
   "outputs": [
    {
     "name": "stdout",
     "output_type": "stream",
     "text": [
      "./copy\\train\\cats total images : 11250\n",
      "./copy\\train\\dogs total images : 11250\n",
      "./copy\\val\\cats total images : 1250\n",
      "./copy\\val\\dogs total images : 1250\n"
     ]
    }
   ],
   "source": [
    "numbers=[train_idx,val_idx]\n",
    "for idx,sub_dir in enumerate(sub_dirs):\n",
    "    dir=os.path.join(base_dir,sub_dir)\n",
    "    if not os.path.exists(dir):\n",
    "        os.mkdir(dir)\n",
    "    for animal in animals:\n",
    "        animal_dir=os.path.join(dir,animal)\n",
    "        if not os.path.exists(animal_dir):\n",
    "            os.mkdir(animal_dir)\n",
    "        fnames=[animal[:-1]+'.{}.jpg'.format(i) for i in numbers[idx]]\n",
    "        for fname in fnames:\n",
    "            src=os.path.join(original_dataset_dir,fname)\n",
    "            dst=os.path.join(animal_dir,fname)\n",
    "            shutil.copyfile(src,dst)\n",
    "        \n",
    "        print(animal_dir+' total images : %d' % (len(os.listdir(animal_dir))))"
   ]
  },
  {
   "cell_type": "code",
   "execution_count": null,
   "metadata": {},
   "outputs": [],
   "source": []
  },
  {
   "cell_type": "code",
   "execution_count": null,
   "metadata": {},
   "outputs": [],
   "source": [
    "# 计算训练集的均值和偏差"
   ]
  },
  {
   "cell_type": "code",
   "execution_count": 7,
   "metadata": {},
   "outputs": [
    {
     "name": "stderr",
     "output_type": "stream",
     "text": [
      "100%|███████████████████████████████████████████████████████████████████████████| 25000/25000 [02:07<00:00, 195.32it/s]\n"
     ]
    },
    {
     "name": "stdout",
     "output_type": "stream",
     "text": [
      "[0.48832284 0.45508163 0.41695606]\n",
      "[0.22944327 0.22498401 0.22518628]\n"
     ]
    }
   ],
   "source": [
    "img_filenames=os.listdir('./train/')\n",
    "m_list,s_list=[],[]\n",
    "for img_filename in tqdm(img_filenames):\n",
    "    img=cv2.imread('./train/'+img_filename)#BGR\n",
    "    img=img/255.0\n",
    "    m,s=cv2.meanStdDev(img)\n",
    "    m_list.append(m.reshape((3,)))\n",
    "    s_list.append(s.reshape((3,)))\n",
    "m_array=np.array(m_list)\n",
    "s_array=np.array(s_list)\n",
    "m=m_array.mean(axis=0,keepdims=True)#BGR\n",
    "s=s_array.mean(axis=0,keepdims=True)\n",
    "print(m[0][::-1])#RGB\n",
    "print(s[0][::-1])"
   ]
  },
  {
   "cell_type": "code",
   "execution_count": null,
   "metadata": {},
   "outputs": [],
   "source": []
  },
  {
   "cell_type": "code",
   "execution_count": null,
   "metadata": {},
   "outputs": [],
   "source": []
  },
  {
   "cell_type": "code",
   "execution_count": null,
   "metadata": {},
   "outputs": [],
   "source": []
  },
  {
   "cell_type": "code",
   "execution_count": null,
   "metadata": {},
   "outputs": [],
   "source": []
  }
 ],
 "metadata": {
  "kernelspec": {
   "display_name": "Python 3",
   "language": "python",
   "name": "python3"
  },
  "language_info": {
   "codemirror_mode": {
    "name": "ipython",
    "version": 3
   },
   "file_extension": ".py",
   "mimetype": "text/x-python",
   "name": "python",
   "nbconvert_exporter": "python",
   "pygments_lexer": "ipython3",
   "version": "3.6.9"
  }
 },
 "nbformat": 4,
 "nbformat_minor": 2
}
